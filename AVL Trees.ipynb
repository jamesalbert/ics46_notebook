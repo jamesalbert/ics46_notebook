{
 "cells": [
  {
   "cell_type": "markdown",
   "metadata": {},
   "source": [
    "In this lecture we will cover AVL (Adelson-Velskii and Landis) trees. An AVL\n",
    "tree is a special kind of BST, with order AND structure properites. As with\n",
    "BSTs, the order property is the same: it ensures that we can search for any\n",
    "value in O(Height); the structure property ensures that the height of an AVL\n",
    "tree is always O(Log N). So, all AVL trees are always reasonably well balanced:\n",
    "there are no pathological AVL trees. AVL trees, invented in 1962, were the\n",
    "first searchable binary trees whose height was guaranteed not to exceed O(Log N)\n",
    "(for trees with N nodes).\n",
    "\n",
    "You can google other kinds of trees with a guaranteed or just expected (on\n",
    "average) O(Log N) worst case for searching, adding, and removing nodes: Splay\n",
    "Trees, (2,4) Trees, and Red-Black trees. These tend to be more complicated to\n",
    "understand, but are faster (or use less space). We will study only AVL trees in\n",
    "detail in this course."
   ]
  },
  {
   "cell_type": "markdown",
   "metadata": {},
   "source": [
    "#### AVL Trees"
   ]
  },
  {
   "cell_type": "markdown",
   "metadata": {},
   "source": [
    "    Order: Same as a binary search tree. So they are easily/quickly searchable\n",
    "           using exactly the same algorithm as for BSTs\n",
    "\n",
    "    Structure: For every node in the tree, the difference in heights between\n",
    "            its children cannot exceed 1. That is, the left child can have a\n",
    "            height one higher than the right, the right child can have\n",
    "            a height one higher than the left, or both children can have the\n",
    "            same height. This property keeps these trees reasonably well\n",
    "            balanced (a small constant times the the optimal height) and not\n",
    "            pathological. Processing time -which is always O(Height)- will be\n",
    "            O(Log N).\n",
    "\n",
    "Note that to make everything work right, we will continue to assign an\n",
    "empty tree a height of -1. Thus the following tree (showing the height of\n",
    "every node)\n",
    "\n",
    "    A\n",
    "    2\\\n",
    "      B\n",
    "      1\\\n",
    "        C\n",
    "        0\n",
    "\n",
    "does not satisfy the AVL property (it certainly looks unbalanced) because A's\n",
    "left child (an empty subtree) has height -1 (by the definition above) and its\n",
    "right child has height 1, for a difference of 2.\n",
    "\n",
    "Regular BSTs have no structure property. They are structured solely by the\n",
    "order in which the values are added to the tree (which allows for building\n",
    "pathological trees). The structural property of AVL trees ensures that all are\n",
    "reasonably well balanced, regardless of the order that the nodes are added and\n",
    "removed, and therefore guaranteed to be searched quickly, with no pathologies.\n",
    "\n",
    "Recall the height of an N node BST can be N-1 in the worst case. We've seen\n",
    "that the best height we can get (from a perfectly balanced binary tree) is\n",
    "about Log N; for AVL trees, we can achieve this same height in the best case,\n",
    "but in the worst case the height is 2 Log N, meaning at worst it is about twice\n",
    "as deep as optimal, but we can ALWAYS search for a node in O(Log N) -throwing\n",
    "out the constant 2. We will prove this result at the end of the AVL section in\n",
    "these notes. There actually is a tighter bound that we will prove, at worst the\n",
    "height is 1.44 Log N for an AVL tree. Recall that for random BSTs that we\n",
    "constructed, the heights were mostly 2-4 times the minimum, so on average the\n",
    "height of a BST is still a few times the height of an AVL tree.\n",
    "\n",
    "Let us now see how to use the order and structure properties to add and remove\n",
    "nodes in O(Log N) as well, ensuring these properties are restored after the\n",
    "addition and removal.\n",
    "\n",
    "There are many ways to represent an AVL tree. One straightforward way is to\n",
    "store an int representing the height in each node (caching it rather than\n",
    "having to recompute it). Of course, the height of any parent is 1 + the height\n",
    "of its highest child. This information will be used and updated in the\n",
    "algorithms below.\n",
    "\n",
    "Adding and removing nodes follows the pattern we saw in heaps (but reversed:\n",
    "we first satisfy the order property, and then work on satisfying the structure\n",
    "property while retaining the order property). We add/remove in an AVL tree just\n",
    "as in a BST, possibly violating the structure property, and then restore the\n",
    "structural property \"cheaply\" -that is, having to look at O(Log N) nodes, and\n",
    "doing at most O(1) work for each node."
   ]
  },
  {
   "cell_type": "markdown",
   "metadata": {},
   "source": [
    "#### Adding a Value to an AVL tree"
   ]
  },
  {
   "cell_type": "markdown",
   "metadata": {},
   "source": [
    "To add a value, we start by adding it as in any BST. Then we traverse the tree\n",
    "backwards -from that node towards the root- adjusting the heights as we go\n",
    "upward to account for the new node. IF we reach a node that violates the\n",
    "\"heights of the children are no different than 1\"  structure property, we\n",
    "perform an adjustment: a \"rotation\" on that node and the two underneath it: the\n",
    "two visited right before the \"bad\" one, on the way up toward the root from the\n",
    "added node. Each rotation ensures the order property is still satisified while\n",
    "restoring the structure property.\n",
    "\n",
    "There are 4 possible patterns of these 3 nodes (actually 2 possible patterns,\n",
    "and their symmetric versions), each with its own transformation/rotation that\n",
    "re-establishes the structure property. In all these cases, the 4 subtrees\n",
    "under A, B, and C appear left to right, labelled T1, T2, T3, and T4\n",
    "\n",
    "Notice here, the nodes are labelled such that A < B < C; and everything\n",
    "in T1 < everything in T2 < ...T3  < ... T4. Finally, notice ALL the trees\n",
    "on the right are the SAME in terms of their ABC and T1 T2 T3 T4 pattern."
   ]
  },
  {
   "cell_type": "raw",
   "metadata": {
    "collapsed": true
   },
   "source": [
    "      C\t\t\t\t           B\n",
    "     / \\\t                /     \\\n",
    "    B  T4                A            C\n",
    "   / \\\t\t=>          / \\          / \\   \n",
    "  A  T3\t\t\t       T1  T2       T3  T4\n",
    " / \\\n",
    "T1 T2\n",
    "\n",
    "\n",
    "   A\t\t\t\t               B\n",
    "  / \\\t\t                    /     \\\n",
    "T1   B                       A            C\n",
    "    / \\         =>          / \\          / \\   \n",
    "   T2  C\t\t           T1  T2       T3  T4\n",
    "     / \\\n",
    "    T3 T4\n",
    "\n",
    "\n",
    "      C\t\t\t\t           B\n",
    "     / \\\t                /     \\\n",
    "    A  T4                A            C\n",
    "   / \\\t\t=>          / \\          / \\   \n",
    "  T1 B\t\t\t       T1 T2        T3  T4\n",
    "    / \\\n",
    "   T2 T3\n",
    "\n",
    "\n",
    "   A\t\t\t\t               B\n",
    "  / \\\t\t                    /     \\\n",
    "T1   C                       A            C\n",
    "    / \\         =>          / \\          / \\   \n",
    "   B  T4\t\t           T1 T2        T3  T4\n",
    "  / \\\n",
    " T2 T3\n"
   ]
  },
  {
   "cell_type": "markdown",
   "metadata": {},
   "source": [
    "Recall that the heights of AVL trees are O(Log N). Threfore, both going down\n",
    "the tree (to add the value where it belongs) and back up the tree (looking for\n",
    "a violation of the AVL property and restoring it via a rotation) require\n",
    "O(Log N) operations: so the combined complexity class for adding a node and\n",
    "restoring the structure property is O(Log N). Each rotation is a constant\n",
    "amount of work (not trivial to do, but not dependent on the size of the tree):\n",
    "it is something done locally at each unbalanced node and its child and\n",
    "grandchild.\n",
    "\n",
    "Here is an example. Given the following AVL tree (it would be useful for you to\n",
    "fill in the heights of every node, and verify that it satsified the order and\n",
    "structure properties of AVL trees)"
   ]
  },
  {
   "cell_type": "raw",
   "metadata": {},
   "source": [
    "       44\n",
    "     /     \\\n",
    "   17        78\n",
    "    \\        /  \\\n",
    "     32     50   88\n",
    "            / \\\n",
    "          48  62"
   ]
  },
  {
   "cell_type": "markdown",
   "metadata": {},
   "source": [
    "If we added 54, according to the order property we would get the tree"
   ]
  },
  {
   "cell_type": "raw",
   "metadata": {},
   "source": [
    "        44\n",
    "     /      \\\n",
    "   17         78\n",
    "    \\        /  \\\n",
    "     32     50   88\n",
    "            / \\\n",
    "          48  62\n",
    "              /\n",
    "             54"
   ]
  },
  {
   "cell_type": "markdown",
   "metadata": {},
   "source": [
    "We move toward the root from 54 to 62, to 50, and finally to 78. At 78 we see\n",
    "a violation of the structure property: its left child (50) is of height 2 and\n",
    "its right child (88) is of height 0 - a difference of more than one. So which\n",
    "rotation do we apply? We use 78 (where we noticed the problem) as the root of\n",
    "the rotation; we use its child that has the larger height (it always has one\n",
    "whose height is larger if we need the rotation there), and we use its\n",
    "grandchild with the larger height, or if the heights are tied, we use the\n",
    "grandchild related to the child in the same way that the child was related to\n",
    "the root of the rotation. So, we apply the rotation to 78, 50, and 62 (using\n",
    "the 3rd of the four patterns above) and get the following tree as a result."
   ]
  },
  {
   "cell_type": "raw",
   "metadata": {},
   "source": [
    "        44\n",
    "     /      \\\n",
    "   17         62\n",
    "    \\        /  \\\n",
    "     32     50   78\n",
    "            / \\    \\\n",
    "          48  54   88"
   ]
  },
  {
   "cell_type": "markdown",
   "metadata": {},
   "source": [
    "After a rotation, we keep going back towards the root, updating the stored\n",
    "heights of all the nodes. When we reach the root, every node now satisfies the\n",
    "order and structure properties. Remember that for ADDING a node to the tree, at\n",
    "most ONE rotation is required to fix the structure property: once we perform\n",
    "any rotation at a node, its ancestors will not be unbalanced. Also, we can stop\n",
    "\"going toward the root recomputing heights\" whenever the height of a node\n",
    "remains unchanged (its ancestor nodes will all keep their same heights).\n",
    "\n",
    "What justifies the comments above? When we add a node, the tree becomes\n",
    "unbalanced because the height of some node becomes one too big; after one\n",
    "rotation, the difference of the heights of its subtrees are made within 1, by\n",
    "reducing one height, thus restoring to its old height the node above it. So the\n",
    "heights of ancestor nodes remain the same (so the AVL structure property\n",
    "doesn't need further correction)."
   ]
  },
  {
   "cell_type": "markdown",
   "metadata": {},
   "source": [
    "#### Removing a Value from an AVL tree"
   ]
  },
  {
   "cell_type": "markdown",
   "metadata": {},
   "source": [
    "For removing a value the process is different but similar. After removing the\n",
    "node (as in a regular BST: remember the leaf node/one child/two children rules)\n",
    "we again continue up from the parent of the removed node towards the root. If\n",
    "we find a node whose children violate the structure property, we use that node,\n",
    "its child whose height is larger, and its grandchild with the larger height (or\n",
    "if the heights are tied, we use the grandchild related to the child in the same\n",
    "way that the child was related to the root of the rotation). Then we apply a\n",
    "rotation (as we did above for adding a node to an AVL tree).\n",
    "\n",
    "So, in the above tree if we remove 32, we have the tree"
   ]
  },
  {
   "cell_type": "raw",
   "metadata": {},
   "source": [
    "        44\n",
    "     /      \\\n",
    "   17         62\n",
    "             /  \\\n",
    "            50   78\n",
    "            / \\    \\\n",
    "          48  54   88"
   ]
  },
  {
   "cell_type": "markdown",
   "metadata": {},
   "source": [
    "We move toward the root from 17, to 44. At 44 we see a violation of the\n",
    "structure property: its left child (17) is of height 0 and its right child\n",
    "(62) is of height 2 -a difference of  more than one. So, we apply the rotation\n",
    "to 44, 62 (its bigger height child) and 78 (since both grandchildren have the\n",
    "same height, and the child is the right child of the root of the rotation)\n",
    "which is the second of the four patterns above) and get the following tree as\n",
    "a result."
   ]
  },
  {
   "cell_type": "raw",
   "metadata": {},
   "source": [
    "      62\n",
    "      / \\\n",
    "    44   78\n",
    "    / \\   \\\n",
    "  17  50  88 \n",
    "     /  \\\n",
    "   48   54"
   ]
  },
  {
   "cell_type": "markdown",
   "metadata": {},
   "source": [
    "In this case we are done, because we made it all the way back to the root.\n",
    "But, in general, for REMOVE (unlike ADD), if we were not at the root, we'd\n",
    "have to continue up towards the root, updating the stored heights AND looking\n",
    "for more nodes not satisfying the structure property, and maybe doing more\n",
    "rotations (as many as necessary).\n",
    "\n",
    "What justifies the comments above? When we remove a node, the tree becomes\n",
    "unbalanced because the height of some node becomes one too small; after one\n",
    "rotation, the difference of the heights of its subtrees are made within 1, by\n",
    "reducing one height, and it is POSSIBLE that the height of the node above it\n",
    "also has its height reduced by the rotation and now is too small when compared\n",
    "to its sibling, so this process might have to continue checking/rebalancing all\n",
    "the way back to the root.\n",
    "\n",
    "Both going down the tree (to remove the value) and back up the tree (looking\n",
    "for one or more violation of the AVL property and restoring any via \n",
    "rotations) require O(Log N) operations, so the combined complexity class for\n",
    "removing a node and restoring the structure property is O(Log N). Each\n",
    "rotation is a constant amount of work (not trivial, but not dependent on the\n",
    "size of the tree): it is something done locally."
   ]
  },
  {
   "cell_type": "markdown",
   "metadata": {},
   "source": [
    "#### Bottom-Line Expectations"
   ]
  },
  {
   "cell_type": "markdown",
   "metadata": {},
   "source": [
    "I expect you to be able to draw pictures of AVL trees and update them\n",
    "according to these algorithms; I DO NOT expect you to write the code for\n",
    "them in C++. I also expect you to be able to reproduce the transformations\n",
    "from memory. This isn't pure memorization: we talked in class about all the\n",
    "requirements and symmetries that make these rules easy to memorize/generate."
   ]
  },
  {
   "cell_type": "markdown",
   "metadata": {},
   "source": [
    "#### Metrics of AVL-Trees: Size vs Height"
   ]
  },
  {
   "cell_type": "markdown",
   "metadata": {},
   "source": [
    "Let us look at the problem of computing the minimum number of nodes that are\n",
    "needed to create an AVL tree of height h. Call this number m(h). We want to \n",
    "find some relationship between h and m(h). First, let's look at this problem\n",
    "for BSTs.\n",
    "\n",
    "In a BST, there is no structure property. We know that m(0) = 1, since we need\n",
    "one node to create a BST of height 0. Also, we can always add a parent to a\n",
    "tree of height h with the minimum number of nodes to create a tree of height\n",
    "h+1 with the minimal number of nodes. so m(h) = 1 + m(h-1), where m(0) = 1.\n",
    "Iterating evaluation of this function we find\n",
    "\n",
    "    m(h) = 1 + m(h-1)\n",
    "         = 2 + m(h-2)\n",
    "         = 3 + m(h-3)\n",
    "         ...\n",
    "         = i + m(h-i)\n",
    "\n",
    "we know m(0) = 1, so we solve for when h-i = 0,; it is i = h. Now we have\n",
    "m(h) = h + m(0) = h + 1. Therefore the minimum number of nodes that are needed\n",
    "to create a BST with height h must be h+1 nodes (a pathological tree). Also \n",
    "note that from our first lecture on BSTs, a BST with height h has at most\n",
    "2^(h+1) - 1 nodes. So all BSTs of height h have between h+1 and 2^(h+1)- 1\n",
    "nodes. So for BSTs, we can have both pathalogical and well-balanced trees.\n",
    "\n",
    "Now let's look at AVL trees using the same kind of argument; AVL trees have a\n",
    "more stringent structure property (ruling out pathological trees) so the\n",
    "minimum number of nodes needed for a tree of height h will be more than h+1.\n",
    "\n",
    "First, let's examine two base cases: for h = 0, the tree must have at least 1\n",
    "node as with a BST; likewise, for h = 1, the tree must have at least 2 nodes."
   ]
  },
  {
   "cell_type": "raw",
   "metadata": {},
   "source": [
    "h = 0                   h = 1\n",
    "\n",
    "    A            A                B\n",
    "                  \\       or     /\n",
    "                   B            A"
   ]
  },
  {
   "cell_type": "markdown",
   "metadata": {},
   "source": [
    "All these trees trivially satisfy the AVL structure property.\n",
    "\n",
    "Now for h = 2, each of the following four trees satisfies the AVL structure\n",
    "property, but no trees with just 3 nodes do, and no any pathological trees with\n",
    "4 nodes do either. So m(2) = 4."
   ]
  },
  {
   "cell_type": "markdown",
   "metadata": {},
   "source": [
    "        B            B          C            C \n",
    "       / \\          /  \\       /  \\         /  \\\n",
    "      A   C        A    D     A    D       B    D\n",
    "           \\           /       \\          /\n",
    "            D         C         B        A"
   ]
  },
  {
   "cell_type": "markdown",
   "metadata": {},
   "source": [
    "Notice that in all these cases for an h = 2 AVL tree, we have a root, with a\n",
    "minimal sized tree of h = 1 as one subtree (so the height of the entire tree is\n",
    "2), and a minimual sized tree of h = 0 as the other subtree. We want as few\n",
    "nodes as possible here, and the AVL structure property allows a difference of\n",
    "1 in heights in these two minimal subtrees.\n",
    "\n",
    "In fact, we can write an exact equation for m(h): m(h) = 1 + m(h-1) + m(h-2),\n",
    "where m(0) = 1 and m(1) = 2. The smallest number of nodes in a tree of height h\n",
    "is 1 (it root) + the smallest number of nodes in a tree of height h-1 (so the\n",
    "height of the entire tree is h) plus the smallest number of nodes in a tree of\n",
    "height h-2  (we want as few nodes as possible here, and the AVL structure\n",
    "property allows a minimum height AVL tree of h-2 here).\n",
    "\n",
    "Here is a short table of values for h and m(h)\n",
    "\n",
    "      h  |  m(h)\n",
    "    -----+-------\n",
    "      0  |    1\n",
    "      1  |    2\n",
    "      2  |    4\n",
    "      3  |    7\n",
    "      4  |   12\n",
    "      5  |   20\n",
    "      6  |   33\n",
    "      7  |   54\n",
    "      8  |   88\n",
    "      9  |  143\n",
    "     10  |  232\n",
    "\n",
    "We know that m is a strictly increasing function, so m(h-2) < m(h-1).\n",
    "Therefore, 1+m(h-1) >= m(h-2), therefore 1+m(h-1)+m(h-2) >= 2m(h-2), so using\n",
    "the definition of m(h) we have  m(h) >= 2m(h-2). Iterating evaluations of this\n",
    "function.\n",
    "\n",
    "    m(h) > 2 x m(h-2)\n",
    "         > 4 x m(h-4)\n",
    "         > 8 x m(h-6)\n",
    "         ...\n",
    "         > 2^i x m(h-2i)\n",
    "\n",
    "we know m(0) = 1, so we solve for when h-2i = 0,; it is i = h/2. Now we have\n",
    "m(h) >= 2^(h/2) x m(0) = 2^(h/2). So the minimum number of nodes in an AVL tree\n",
    "of height h grows at least as fast than 2^(h/2): it is Omega(2^(h/2)). Now that\n",
    "we have a relationship between h and m(h), but let us rewrite it as follows\n",
    "\n",
    "    m(h)      >= 2^(h/2)     just proved\n",
    "    Log2 m(h) >= h/2         taking logs (base 2) of each side we have\n",
    "    h/2       <= Log2 m(h)   reverse the  inequality\n",
    "    h         <= 2 Log2 m(h) flip the sides and multiply each side by two\n",
    "\n",
    "This says the height of an AVL tree grows no faster than 2 times the Log of the\n",
    "minimum number of nodes: h is O(Log2 m(h)).\n",
    "\n",
    "If n(h) is the number of nodes in some actual AVL tree of height h. We know\n",
    "that m(h) <= n(h) (from the definition of m(h): the minimum number of nodes in\n",
    "an AVL tree of height h), so h <= 2 Log2 m(h) <= 2 Log2 n(h). Since the number\n",
    "of operations needed to search, add, and remove in an AVL tree is proportional\n",
    "to its height h, the number of operations is <= 2 Log2 N, where N is the number\n",
    "of nodes in some actual AVL tree. \n",
    "\n",
    "In fact, the equation m(h) = 1 + m(h-1) + m(h-2) (with m(0) = 1 and m(1) = 2)\n",
    "is a slight modification of the fibonacci sequence: f(i) = f(i-1) + f(i-2),\n",
    "with f(0) = 0 and f(1) = 1. Using that knowledge, with appropriate mathematics\n",
    "we can can approximate m(h) very accurately as  m(h) = phi^(h+3)/sqrt(5) - 1,\n",
    "where phi is (1+sqrt(5))/2 or ~1.618034, and is also known as the golden\n",
    "ratio.  Here is a short table of these values\n",
    "\n",
    "     h  |  m(h)   |  phi^(h+3)/sqrt(5) - 1\n",
    "    ----+---------+-------------------------\n",
    "     0  | \t 1   |\t    0.9\n",
    "     1  |\t 2    |\t    2.1\n",
    "     2  |\t 4    |\t    4.0\n",
    "     3  |\t 7    |\t    7.0\n",
    "     4  |\t12    |\t   12.0\n",
    "     5  |\t20    |\t   20.0\n",
    "     6  |\t33    |\t   33.0\n",
    "     7  |\t54    |\t   54.0\n",
    "     8  |\t88    |\t   88.0\n",
    "     9  |  143     |\t  143.0\n",
    "    10  |  232     |\t  232.0\n",
    "\n",
    "Dropping the - 1 term (it is small compared to phi^(h+2)/sqrt(5) as h gets big)\n",
    "and taking logs (base phi) of each side we have\n",
    "\n",
    "    Log(base phi) m(h) ~ h+3 -Log(base phi) sqrt(5)\n",
    "\n",
    "    recall: Loga x = Log2 x/log2 a, so Log(base phi) x = Log2 x /Log2 phi, so we have\n",
    "\n",
    "    Log2 m(h)/Log2 phi ~ h+3 - Log(base phi) sqrt(5)\n",
    "\n",
    "    1/Log2 phi ~1.44, and Log(base phi) sqrt(5) = 1.672, so we have\n",
    "\n",
    "    1.44 Log2 m(h) ~ h + 3 - 1.662\n",
    "\n",
    "    h ~ 1.44 Log2 m(h) - 1.338, and by dropping this constant term we have\n",
    "\n",
    "    h ~ 1.44 Log2 m(h)\n",
    "\n",
    "Again, if n(h) is the number of nodes in some actual AVL tree of height h. We\n",
    "know that m(h) <= n(h) (from the definition of m(h): the minimum number of\n",
    "nodes in an AVL tree of height h), so\n",
    "\n",
    "    h ~ 1.44Log2 m(h) - 1.338 <= 1.44Log2 n(h) - 1.338 < 1.44Log2 N\n",
    "\n",
    "Since the number of operations needed to search, add, and remove in an AVL tree\n",
    "is proportional to its height h, the number of operations is < 1.44 Log2 N,\n",
    "where N is the number of nodes in the actual AVL tree. \n",
    "\n",
    "So, in the worst case for AVL trees, the search, add, and remove operations are\n",
    "all O(Log2 N) and the constant is actually closer to 1.44 than to 2.\n",
    "\n",
    "Another interesting fact about AVL trees is that if the leaf at the minimum\n",
    "depth is at depth d, then the leaf at the maximum depth is at most at depth 2d\n",
    "(this also represents the height of the tree). Observe for any AVL tree, if we\n",
    "go upward from the node at the minimum depth its parent can have a descendant\n",
    "that is at most 1 depth deeper; its grandparent can have a node that at most is\n",
    "2 depths deeper; .... For each ancestor, it can have a descendant that is at\n",
    "most one depth deeper. It has d ancestors (is at depth d), the deepest node in\n",
    "the entire tree is d+d = 2d : each of the d ancestors can have a descedant one\n",
    "more deeper than d.\n",
    "\n",
    "For example, in the minimal AVL tree below"
   ]
  },
  {
   "cell_type": "raw",
   "metadata": {},
   "source": [
    "                44\n",
    "             /      \\\n",
    "           /          \\\n",
    "         17           70\n",
    "        /  \\         /   \\\n",
    "       8   30      62     78\n",
    "      /    / \\            /\n",
    "     5   20  40         75\n",
    "             /\n",
    "            35"
   ]
  },
  {
   "cell_type": "markdown",
   "metadata": {},
   "source": [
    "Node 62 is at the minimum depth of 2. It parent has a node of depth 3; its\n",
    "grandparent (the root) has a node of depth 4 (2*2)."
   ]
  },
  {
   "cell_type": "markdown",
   "metadata": {},
   "source": [
    "#### A Removal Requiring Two Rotations"
   ]
  },
  {
   "cell_type": "markdown",
   "metadata": {},
   "source": [
    "Here is an example of removal in an AVL tree that requires two rotations. This\n",
    "tree can be constructed using the formula above. It has the minimum number of\n",
    "nodes for a height 4 tree."
   ]
  },
  {
   "cell_type": "raw",
   "metadata": {},
   "source": [
    "                44\n",
    "             /      \\\n",
    "           /          \\\n",
    "         17           70\n",
    "        /  \\         /   \\\n",
    "       8   30      62     78\n",
    "      /    / \\            /\n",
    "     5   20  40         75\n",
    "             /\n",
    "            35"
   ]
  },
  {
   "cell_type": "markdown",
   "metadata": {},
   "source": [
    "Verify that this is an AVL tree (order property and structure property: fill\n",
    "in all the heights and compare the heights for a difference of more than 1)\n",
    "\n",
    "Now, remove the value 62 (the leaf at the minimum depth)."
   ]
  },
  {
   "cell_type": "raw",
   "metadata": {},
   "source": [
    "                44\n",
    "             /      \\\n",
    "           /          \\\n",
    "         17           70\n",
    "        /  \\             \\\n",
    "       8   30             78\n",
    "      /    / \\            /\n",
    "     5   20  40         75\n",
    "             /\n",
    "            35"
   ]
  },
  {
   "cell_type": "markdown",
   "metadata": {},
   "source": [
    "At this point, the value 70 has two children in its right subtree (height 1)\n",
    "and no childtren in its left subtree (height -1), so the height difference is > 1.\n",
    "So we do a rotation using the nodes containing 70, 78, and 75 (all the T subtrees here are empty!). The tree becomes:"
   ]
  },
  {
   "cell_type": "raw",
   "metadata": {},
   "source": [
    "                44\n",
    "             /      \\\n",
    "           /          \\\n",
    "         17           75\n",
    "        /  \\         /   \\\n",
    "       8   30      70     78\n",
    "      /    / \\\n",
    "     5   20  40\n",
    "             /\n",
    "            35"
   ]
  },
  {
   "cell_type": "markdown",
   "metadata": {},
   "source": [
    "Recompute the heights for all the changed nodes.\n",
    "\n",
    "Now notice that this operations reduces by one the height of the subtree that\n",
    "used to store 70 as its root (it now stores 75): from 2 to 1. When we started\n",
    "the height of this right subtree was 1 less than the height of the left\n",
    "subtree, and now the height of the right subtree has been reduced by 1 because\n",
    "of the rotation. So, the rotation causes the root of the tree (44) to now have\n",
    "a left child (storing value 17) with a height of 3 and a right child (storing\n",
    "value 75) with a height of 1; the difference between these two heights is > 1.\n",
    "\n",
    "So we do another rotation, this time using 44, 17, and 30. (we use 30, because\n",
    "this grandchild of the root of rotation has a bigger height than its sibling,\n",
    "8). The tree becomes:"
   ]
  },
  {
   "cell_type": "raw",
   "metadata": {},
   "source": [
    "                30\n",
    "             /      \\\n",
    "           /          \\\n",
    "         17           44\n",
    "        /  \\         /   \\\n",
    "       8   20      40     75\n",
    "      /           /      /  \\\n",
    "     5           35     70  78"
   ]
  },
  {
   "cell_type": "markdown",
   "metadata": {},
   "source": [
    "Finally, notice that the root of this tree changed its value from 44 to 30 and\n",
    "its height from 4 down to 3. So if the root were a left subtree of a node whose\n",
    "right subtree was height 5 (which is OK when the height of this subtree was 4),\n",
    "the height of the right subtree will now be > 1 larger then the height of this\n",
    "left subtree, causing it to do another rotation.... That is why when removing\n",
    "nodes, we might have to do more than one rotation."
   ]
  },
  {
   "cell_type": "markdown",
   "metadata": {},
   "source": [
    "#### Other Balanced Trees"
   ]
  },
  {
   "cell_type": "markdown",
   "metadata": {},
   "source": [
    "Red-Black trees and Splay trees are more \"modern\" balanced trees, also\n",
    "guaranteed to have their heights O(Log N). Their height bounds are a bit worse\n",
    "than AVL trees, but they do less work to \"restore the structure property of the\n",
    "tree\". Thus, their search algorithms runs more a bit more slowly, but their\n",
    "algorithms for insertion/deletion run more quickly. Their main advantage is\n",
    "that they store no extra information (recall that AVL trees need to store/cache\n",
    "the height of every node, stored at that node)."
   ]
  },
  {
   "cell_type": "markdown",
   "metadata": {},
   "source": [
    "#### Odds & Ends"
   ]
  },
  {
   "cell_type": "markdown",
   "metadata": {},
   "source": [
    "In this section we will discuss augmenting tree nodes (however they are defined)\n",
    "with an extra pointer that allows a child to point directly to its parent. This\n",
    "is not needed for many simple trees and tree operations, but in all the data\n",
    "structures that we define, we are at liberty to add any pointers that we\n",
    "might find useful. \n",
    "\n",
    "Notice that locating the parent, given its child, was critical for algorithms\n",
    "that process heaps. But in heaps, we didn't have to store parent pointers,\n",
    "because heap nodes were store in an array, and knowing the index of a node\n",
    "allowed us to calculate the index of its parent (and children).\n",
    "\n",
    "Recall in our study of doubly-linked lists, although the extra links allow us\n",
    "to do new operations (like go backwards in the list), we often have to write\n",
    "extra code (for old operations, like insert, remove etc.) to maintain/update\n",
    "these extra pointers. So, having such extra pointers can be both useful and\n",
    "cumbersome.\n",
    "\n",
    "We could augment our typical TN to be"
   ]
  },
  {
   "cell_type": "code",
   "execution_count": null,
   "metadata": {
    "collapsed": false
   },
   "outputs": [],
   "source": [
    "template<class T>\n",
    "class TN<T> {\n",
    "  public:\n",
    "    TN () : left(nullptr), right(nullptr), parent(nullptr){}\n",
    "    TN (Entry v, TN<T>* l = nullptr,\n",
    "                 TN<T>* r = nullptr,\n",
    "                 TN<T>* p = nullptr) : value(v), left(l), right(r), parent(p){}\n",
    "\n",
    "    T        value;\n",
    "    TN<T>*   parent;\n",
    "    TN<T>*   left;\n",
    "    TN<T>*   right;\n",
    "};"
   ]
  },
  {
   "cell_type": "markdown",
   "metadata": {},
   "source": [
    "Note that the root of the tree would be the only node whose parent was nullptr.\n",
    "So, given a pointer to a node t, we could determine whether it was the root\n",
    "by checking whether t.parent == nullptr.\n",
    "\n",
    "Given a pointer to any non-root node, here is the code to make its parent\n",
    "point to its left child (instead of to it) and the left child to point to its\n",
    "new parent. This is how we would remove a node with one (left) child from a BST.\n",
    "This is a bit tricky and we need write an if first to determine whether the\n",
    "node is a left or right child of its parent, to know which pointer of its\n",
    "parent to change."
   ]
  },
  {
   "cell_type": "code",
   "execution_count": null,
   "metadata": {
    "collapsed": false
   },
   "outputs": [],
   "source": [
    "template<class T>\n",
    "void makeParentReferToLeftChild(TN<T>* t) { # Assumes t not root/has a parent\n",
    "  if (t->parent->left == t)                 # Make parent's left/or right\n",
    "    t->parent->left  = t->left;             # point to t's left\n",
    "  else\n",
    "    t->parent->right = t->left;\n",
    "  t->left->parent = t->parent;              # make t->left refer to\n",
    "}                                           # its new parent"
   ]
  },
  {
   "cell_type": "markdown",
   "metadata": {},
   "source": [
    "Hand simulate this code on an example to see which two pointers are changed. \n",
    "\n",
    "We can also use it to compute the depth of a node (how many ancestors it\n",
    "has)."
   ]
  },
  {
   "cell_type": "code",
   "execution_count": null,
   "metadata": {
    "collapsed": true
   },
   "outputs": [],
   "source": [
    "template<class T>\n",
    "int depth(TN<T>* t) {\n",
    "  if (t == nullptr)\n",
    "    return -1;\n",
    "  else\n",
    "    return 1 + depth(t->parent);\n",
    "}"
   ]
  }
 ],
 "metadata": {
  "kernelspec": {
   "display_name": "Python 2",
   "language": "python",
   "name": "python2"
  },
  "language_info": {
   "codemirror_mode": {
    "name": "ipython",
    "version": 2
   },
   "file_extension": ".py",
   "mimetype": "text/x-python",
   "name": "python",
   "nbconvert_exporter": "python",
   "pygments_lexer": "ipython2",
   "version": "2.7.10"
  }
 },
 "nbformat": 4,
 "nbformat_minor": 0
}
